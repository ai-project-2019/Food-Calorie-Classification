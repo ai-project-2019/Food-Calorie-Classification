{
 "cells": [
  {
   "cell_type": "markdown",
   "metadata": {},
   "source": [
    " # Food Classification Using Deep Neural Networks and Transfer Learning"
   ]
  },
  {
   "cell_type": "markdown",
   "metadata": {},
   "source": [
    "# 1. Data Splitting "
   ]
  },
  {
   "cell_type": "markdown",
   "metadata": {},
   "source": [
    "Split the data into training, validation, and test sets. Justify your choice."
   ]
  },
  {
   "cell_type": "code",
   "execution_count": 4,
   "metadata": {},
   "outputs": [],
   "source": [
    "import numpy as np\n",
    "import time\n",
    "import torch\n",
    "import torch.nn as nn\n",
    "import torch.optim as optim\n",
    "import torchvision\n",
    "from torch.utils.data.sampler import SubsetRandomSampler\n",
    "import torchvision.transforms as transforms\n",
    "\n",
    "import matplotlib.pyplot as plt\n"
   ]
  },
  {
   "cell_type": "raw",
   "metadata": {},
   "source": [
    "import shutil\n",
    "import os\n",
    "import random\n",
    "random.seed = 2019\n",
    "split = [600,200,200]\n",
    "\n",
    "for food in ['falafel','apple_pie','donuts','french_fries','macarons','nachos','onion_rings','oysters','pizza', 'mussels']:\n",
    "    \n",
    "    #create new empty folders\n",
    "    if not os.path.exists('train/' + food):\n",
    "        os.makedirs('train/' + food)\n",
    "    if not os.path.exists('val/' + food):\n",
    "        os.makedirs('val/' + food)\n",
    "    if not os.path.exists('test/' + food):\n",
    "        os.makedirs('test/' + food)\n",
    "    \n",
    "    #make a list of image file names, shuffle them\n",
    "    pictures = os.listdir(\"Food Chosen/\"+ food)\n",
    "    pictures.sort()\n",
    "    random.shuffle(pictures)\n",
    "    \n",
    "    #copy images into folders\n",
    "    for pic in pictures[0:split[0]]:\n",
    "        shutil.copy(\"Food Chosen/\"+ food +\"/\"+ pic,\"train/\"+food+\"/\"+pic)\n",
    "        print(\"copy\",\"Food Chosen/\"+ food +\"/\"+ pic,\"to\",\"train/\"+food+\"/\"+pic)\n",
    "        \n",
    "    for pic in pictures[split[0]:split[0]+split[1]]:\n",
    "        shutil.copy(\"Food Chosen/\"+ food +\"/\"+ pic,\"val/\"+food+\"/\"+pic)\n",
    "        print(\"copy\",\"Food Chosen/\"+ food +\"/\"+ pic,\"to\",\"val/\"+food+\"/\"+pic)\n",
    "        \n",
    "    for pic in pictures[split[1]:sum(split)]:\n",
    "        shutil.copy(\"Food Chosen/\"+ food +\"/\"+ pic,\"test/\"+food+\"/\"+pic)\n",
    "        print(\"copy\",\"Food Chosen/\"+ food +\"/\"+ pic,\"to\",\"test/\"+food+\"/\"+pic)"
   ]
  },
  {
   "cell_type": "markdown",
   "metadata": {},
   "source": [
    "# Load Data"
   ]
  },
  {
   "cell_type": "code",
   "execution_count": 6,
   "metadata": {},
   "outputs": [],
   "source": [
    "def get_data_loader(target_classes, batch_size):\n",
    "    \"\"\" Returns the indices for datapoints in the dataset that\n",
    "    belongs to the desired target classes, a subset of all possible classes.\n",
    "\n",
    "    Args:\n",
    "        dataset: Dataset object\n",
    "        classes: A list of strings denoting the name of each class\n",
    "        target_classes: A list of strings denoting the name of the desired\n",
    "                        classes. Should be a subset of the argument 'classes'\n",
    "    Returns:\n",
    "        indices: list of indices that have labels corresponding to one of the\n",
    "                 target classes\n",
    "    \"\"\"\n",
    "    classes = ('falafel','apple_pie','donuts','french_fries','macarons','nachos','onion_rings','oysters','pizza', 'mussels')\n",
    "\n",
    "    ########################################################################\n",
    "    # The output of torchvision datasets are PILImage images of range [0, 1].\n",
    "    # We transform them to Tensors of normalized range [-1, 1].\n",
    "    transform = transforms.Compose(\n",
    "    [transforms.Resize((224,224), interpolation=2), transforms.ToTensor(),\n",
    "     transforms.Normalize((0.5, 0.5, 0.5), (0.5, 0.5, 0.5))\n",
    "    ])\n",
    "\n",
    "    trainset = torchvision.datasets.ImageFolder(root = 'train',\n",
    "                                                 transform=transform)\n",
    " \n",
    "    train_loader = torch.utils.data.DataLoader(trainset, batch_size = batch_size,\n",
    "                                              num_workers = 1, shuffle = True)\n",
    "\n",
    "    \n",
    "    val_set = torchvision.datasets.ImageFolder(root='val',\n",
    "                                                 transform=transform)\n",
    "    val_loader = torch.utils.data.DataLoader(val_set, batch_size=batch_size,\n",
    "                                              num_workers=1, shuffle = True)\n",
    "\n",
    "    testset = torchvision.datasets.ImageFolder(root= 'test',\n",
    "                                            transform=transform)\n",
    "    \n",
    "    test_loader = torch.utils.data.DataLoader(testset, batch_size=batch_size,\n",
    "                                             num_workers=1, shuffle = True)\n",
    "\n",
    "    return train_loader, classes#, val_loader, test_loader, classes"
   ]
  },
  {
   "cell_type": "code",
   "execution_count": 7,
   "metadata": {},
   "outputs": [],
   "source": [
    "classes = ('falafel','apple_pie','donuts','french_fries','macarons','nachos','onion_rings','oysters','pizza', 'mussels')\n",
    "\n",
    "########################################################################\n",
    "# The output of torchvision datasets are PILImage images of range [0, 1].\n",
    "# We transform them to Tensors of normalized range [-1, 1].\n",
    "transform = transforms.Compose(\n",
    "    [transforms.Resize((224,224), interpolation=2), transforms.ToTensor(),\n",
    "     transforms.Normalize((0.5, 0.5, 0.5), (0.5, 0.5, 0.5))\n",
    "    ])\n",
    "\n",
    "trainset = torchvision.datasets.ImageFolder(root = 'train',\n",
    "                                             transform=transform)\n",
    "\n",
    "train_loader = torch.utils.data.DataLoader(trainset, batch_size = 64,\n",
    "                                          num_workers = 1, shuffle = True)\n",
    "val_set = torchvision.datasets.ImageFolder(root='val',\n",
    "                                                 transform=transform)\n",
    "val_loader = torch.utils.data.DataLoader(val_set, batch_size=64,\n",
    "                                              num_workers=1, shuffle = True)\n",
    "\n",
    "testset = torchvision.datasets.ImageFolder(root= 'test',\n",
    "                                            transform=transform)\n",
    "    \n",
    "test_loader = torch.utils.data.DataLoader(testset, batch_size=64,\n",
    "                                             num_workers=1, shuffle = True)"
   ]
  },
  {
   "cell_type": "code",
   "execution_count": 6,
   "metadata": {},
   "outputs": [
    {
     "data": {
      "text/plain": [
       "{'apple_pie': 0,\n",
       " 'donuts': 1,\n",
       " 'falafel': 2,\n",
       " 'french_fries': 3,\n",
       " 'macarons': 4,\n",
       " 'mussels': 5,\n",
       " 'nachos': 6,\n",
       " 'onion_rings': 7,\n",
       " 'oysters': 8,\n",
       " 'pizza': 9}"
      ]
     },
     "execution_count": 6,
     "metadata": {},
     "output_type": "execute_result"
    }
   ],
   "source": [
    "trainset.class_to_idx\n"
   ]
  },
  {
   "cell_type": "code",
   "execution_count": 7,
   "metadata": {},
   "outputs": [
    {
     "name": "stdout",
     "output_type": "stream",
     "text": [
      "torch.Size([64, 3, 224, 224])\n",
      "tensor([4, 3, 8, 5, 5, 3, 9, 5, 7, 5, 2, 6, 2, 2, 3, 0, 1, 4, 4, 9, 2, 8, 7, 2,\n",
      "        4, 4, 0, 4, 9, 8, 5, 1, 2, 8, 8, 6, 9, 6, 8, 6, 9, 4, 6, 1, 0, 5, 7, 6,\n",
      "        8, 7, 8, 2, 3, 1, 4, 4, 2, 5, 0, 9, 6, 7, 0, 4])\n",
      "torch.Size([64])\n"
     ]
    }
   ],
   "source": [
    "train_loader_iter = iter(train_loader)\n",
    "imgs, labels = next(train_loader_iter)\n",
    "print(imgs.shape)\n",
    "print(labels)\n",
    "print(labels.shape)"
   ]
  },
  {
   "cell_type": "markdown",
   "metadata": {},
   "source": [
    "# 2. Convolutional Network - Baseline Model \n",
    "Build a convolutional neural network model that takes the (224x224 RGB) image as input, and predicts the letter. Your model should be a subclass of nn.Module. Explain your choice of neural network architecture: how many layers did you choose? What types of layers did you use? Were they fully-connected or convolutional? What about other decisions like pooling layers, activation functions, number of channels / hidden units."
   ]
  },
  {
   "cell_type": "code",
   "execution_count": 13,
   "metadata": {},
   "outputs": [],
   "source": [
    "import torch.nn as nn\n",
    "import torch.nn.functional as F\n",
    " \n",
    "class LargeNet(nn.Module):\n",
    "    def __init__(self):\n",
    "        super(LargeNet, self).__init__()\n",
    "        self.name = \"large\"\n",
    "        self.conv1 = nn.Conv2d(3, 32, 3, padding = 1) \n",
    "        self.pool = nn.MaxPool2d(2, 2)\n",
    "        self.conv2 = nn.Conv2d(32, 64, 3, padding = 1)\n",
    "        self.conv3 = nn.Conv2d(64, 128, 3, padding = 1)\n",
    "        \n",
    "        self.fc1 = nn.Linear(128 * 28 * 28, 128)\n",
    "        self.fc2 = nn.Linear(128, 9)\n",
    "\n",
    "    def forward(self, x):\n",
    "        x = self.pool(F.relu(self.conv1(x)))\n",
    "        x = self.pool(F.relu(self.conv2(x)))\n",
    "        x = self.pool(F.relu(self.conv3(x)))\n",
    "        x = x.view(-1, 128 * 28 * 28)  \n",
    "        x = F.relu(self.fc1(x))\n",
    "        x = self.fc2(x) \n",
    "        x = x.squeeze(1) # Flatten to [batch_size]\n",
    "        return x"
   ]
  },
  {
   "cell_type": "markdown",
   "metadata": {},
   "source": [
    "# 3. Training \n",
    "Train your network. Plot the training curve.\n",
    "\n",
    "Make sure that you are checkpointing frequently!"
   ]
  },
  {
   "cell_type": "code",
   "execution_count": 14,
   "metadata": {},
   "outputs": [],
   "source": [
    "import torch.nn as nn\n",
    "import torch.nn.functional as F\n",
    "# convolutional neural network, \n",
    "class LargeNet(nn.Module):\n",
    "    def __init__(self):\n",
    "        super(LargeNet, self).__init__()\n",
    "        self.name = \"large\"\n",
    "        self.conv1 = nn.Conv2d(3, 5, 3, padding = 1) \n",
    "        self.pool = nn.MaxPool2d(2, 2)\n",
    "        self.conv2 = nn.Conv2d(5, 10, 3, padding = 1)\n",
    "        self.conv3 = nn.Conv2d(10, 15, 3, padding = 1)\n",
    "        self.fc1 = nn.Linear(15 * 28 * 28 , 64)\n",
    "        self.fc2 = nn.Linear(64, 10)\n",
    "\n",
    "    def forward(self, x):\n",
    "        \n",
    "        x = self.pool(F.relu(self.conv1(x)))\n",
    "        x = self.pool(F.relu(self.conv2(x)))\n",
    "        x = self.pool(F.relu(self.conv3(x)))\n",
    "        \n",
    "        x = x.view(-1, 15 * 28 * 28)  \n",
    "        x = F.relu(self.fc1(x))\n",
    "        x = self.fc2(x) \n",
    "        x = x.squeeze(1) # Flatten to [batch_size]\n",
    "        return x"
   ]
  },
  {
   "cell_type": "code",
   "execution_count": 15,
   "metadata": {},
   "outputs": [],
   "source": [
    "def get_model_name(name, batch_size, learning_rate, epoch):\n",
    "    \"\"\" Generate a name for the model consisting of all the hyperparameter values\n",
    "\n",
    "    Args:\n",
    "        config: Configuration object containing the hyperparameters\n",
    "    Returns:\n",
    "        path: A string with the hyperparameter name and value concatenated\n",
    "    \"\"\"\n",
    "    path = \"model_{0}_bs{1}_lr{2}_epoch{3}\".format(name,\n",
    "                                                   batch_size,\n",
    "                                                   learning_rate,\n",
    "                                                   epoch)\n",
    "    return path\n"
   ]
  },
  {
   "cell_type": "code",
   "execution_count": 16,
   "metadata": {},
   "outputs": [
    {
     "name": "stdout",
     "output_type": "stream",
     "text": [
      "torch.Size([64, 3, 224, 224])\n",
      "tensor([5, 9, 4, 4, 6, 0, 8, 3, 5, 4, 9, 4, 4, 9, 8, 7, 9, 6, 9, 6, 9, 3, 7, 4,\n",
      "        2, 7, 9, 6, 4, 8, 0, 1, 5, 0, 8, 3, 5, 7, 8, 2, 2, 4, 4, 8, 0, 2, 8, 6,\n",
      "        9, 9, 9, 5, 2, 4, 2, 9, 6, 8, 1, 3, 1, 9, 6, 2])\n",
      "torch.Size([64])\n"
     ]
    }
   ],
   "source": [
    "train_loader_iter = iter(train_loader)\n",
    "imgs, labels = next(train_loader_iter)\n",
    "print(imgs.shape)\n",
    "print(labels)\n",
    "print(labels.shape)"
   ]
  },
  {
   "cell_type": "markdown",
   "metadata": {},
   "source": [
    "# Training - Baseline Model"
   ]
  },
  {
   "cell_type": "code",
   "execution_count": 17,
   "metadata": {},
   "outputs": [],
   "source": [
    "def evaluate(net, loader, criterion):\n",
    "    \"\"\" Evaluate the network on the validation set.\n",
    "\n",
    "     Args:\n",
    "         net: PyTorch neural network object\n",
    "         loader: PyTorch data loader for the validation set\n",
    "         criterion: The loss function\n",
    "     Returns:\n",
    "         err: A scalar for the avg classification error over the validation set\n",
    "         loss: A scalar for the average loss function over the validation set\n",
    "     \"\"\"\n",
    "    total_loss = 0.0\n",
    "    total_err = 0.0\n",
    "    total_epoch = 0\n",
    "\n",
    "    for i, data in enumerate(loader, 0):\n",
    "        inputs, labels = data\n",
    "        \n",
    "        outputs = net(inputs)\n",
    "        loss = criterion(outputs, labels)\n",
    "        pred = outputs.max(1, keepdim=True)[1] # get the index of the max log-probability\n",
    "        total_err += pred.ne(labels.view_as(pred)).sum().item()\n",
    "        total_loss += loss.item()\n",
    "        total_epoch += len(labels)\n",
    "\n",
    "    err = float(total_err) / total_epoch\n",
    "    loss = float(total_loss) / (i + 1)\n",
    "\n",
    "    return err, loss"
   ]
  },
  {
   "cell_type": "code",
   "execution_count": 18,
   "metadata": {},
   "outputs": [],
   "source": [
    "def train(net, batch_size=1, learning_rate=0.0001, num_epochs=30):\n",
    "    transform = transforms.Compose(\n",
    "        [transforms.Resize((224,224)), transforms.ToTensor(),\n",
    "        transforms.Normalize((0.5, 0.5, 0.5), (0.5, 0.5, 0.5))])\n",
    "    trainset = torchvision.datasets.ImageFolder(root='train',\n",
    "                                                 transform=transform)\n",
    "    train_loader = torch.utils.data.DataLoader(trainset, batch_size=64,\n",
    "                                          num_workers=1, shuffle = True)\n",
    "    \n",
    "    train_loader_iter = iter(train_loader)\n",
    "    imgs, labels = next(train_loader_iter)\n",
    "    \n",
    "    \n",
    "    torch.manual_seed(1000)\n",
    "\n",
    "   \n",
    "  \n",
    "    criterion = nn.CrossEntropyLoss()\n",
    "    optimizer = torch.optim.Adam(net.parameters(), lr=learning_rate, weight_decay=1e-5)\n",
    "    \n",
    "    train_err = np.zeros(num_epochs)\n",
    "    train_loss = np.zeros(num_epochs)\n",
    "    val_err = np.zeros(num_epochs)\n",
    "    val_loss = np.zeros(num_epochs)\n",
    "    \n",
    "    \n",
    "    iters, losses, train_acc, val_acc = [], [], [], []\n",
    "    start_time = time.time()\n",
    "    # training\n",
    "    n=0\n",
    "    for epoch in range(num_epochs):  # loop over the dataset multiple times \n",
    "      \n",
    "        total_train_loss = 0.0\n",
    "        total_train_err = 0.0\n",
    "\n",
    "        total_epoch = 0\n",
    "        for i, data in enumerate(train_loader, 0):\n",
    "            \n",
    "            inputs, labels = data\n",
    "                      \n",
    "            optimizer.zero_grad()\n",
    "            outputs = net(inputs)\n",
    "           \n",
    "            loss = criterion(outputs, labels)\n",
    "            loss.backward()\n",
    "            optimizer.step()\n",
    "            iters.append(n)\n",
    "           \n",
    "            pred = outputs.max(1, keepdim=True)[1] # get the index of the max log-probability\n",
    "            total_train_err += pred.ne(labels.view_as(pred)).sum().item()\n",
    "            total_train_loss += loss.item()\n",
    "            total_epoch += len(labels)\n",
    "           \n",
    "            losses.append(float(loss)/batch_size)  \n",
    "            n += 1# compute *average* loss\n",
    "        \n",
    "        train_err[epoch] = float(total_train_err) / total_epoch\n",
    "     \n",
    "        train_loss[epoch] = float(total_train_loss) / (i+1)\n",
    "        \n",
    "        val_err[epoch], val_loss[epoch] = evaluate(net, val_loader, criterion)\n",
    "    \n",
    "        print((\"Epoch {}: Train err: {}, Train loss: {}  |\" +\n",
    "               \"Validation err: {} , Validation loss:{} \").format(\n",
    "                   epoch + 1,\n",
    "            \n",
    "                   train_err[epoch],\n",
    "                   train_loss[epoch],\n",
    "                   val_err[epoch],\n",
    "                   val_loss[epoch]\n",
    "                        ))\n",
    "\n",
    "        # Save the current model (checkpoint) to a file\n",
    "        model_path = get_model_name(net.name, batch_size, learning_rate, epoch)\n",
    "        torch.save(net.state_dict(), model_path)\n",
    "\n",
    "    print('Finished Training')\n",
    "    end_time = time.time()\n",
    "    elapsed_time = end_time - start_time\n",
    "    print(\"Total time elapsed: {:.2f} seconds\".format(elapsed_time))\n",
    "\n",
    "    # Write the train/test loss/err into CSV file for plotting later\n",
    "    epochs = np.arange(1, num_epochs + 1)\n",
    "\n",
    "    np.savetxt(\"{}_train_err.csv\".format(model_path), train_err)\n",
    "    np.savetxt(\"{}_train_loss.csv\".format(model_path), train_loss)\n",
    "    np.savetxt(\"{}_val_err.csv\".format(model_path), val_err)\n",
    "    np.savetxt(\"{}_val_loss.csv\".format(model_path), val_loss)\n",
    "        \n",
    "          "
   ]
  },
  {
   "cell_type": "code",
   "execution_count": 19,
   "metadata": {},
   "outputs": [],
   "source": [
    "# Training Curve\n",
    "import matplotlib.pyplot as plt\n",
    "def plot_training_curve(path):\n",
    "    \"\"\" Plots the training curve for a model run, given the csv files\n",
    "    containing the train/validation error/loss.\n",
    "\n",
    "    Args:\n",
    "        path: The base path of the csv files produced during training\n",
    "    \"\"\"\n",
    "\n",
    "    train_err = np.loadtxt(\"{}_train_err.csv\".format(path))\n",
    "    val_err = np.loadtxt(\"{}_val_err.csv\".format(path))\n",
    "    train_loss = np.loadtxt(\"{}_train_loss.csv\".format(path))\n",
    "    val_loss = np.loadtxt(\"{}_val_loss.csv\".format(path))\n",
    "    plt.title(\"Train vs Validation Error\")\n",
    "    plt.plot(range(1,16), train_err, label=\"Train\")\n",
    "    plt.plot(range(1,16), val_err, label=\"Validation\")\n",
    "    plt.xlabel(\"Epoch\")\n",
    "    plt.ylabel(\"Error\")\n",
    "    plt.legend(loc='best')\n",
    "    plt.show()\n",
    "    plt.title(\"Train vs Validation Loss\")\n",
    "    plt.plot(range(1,16), train_loss, label=\"Train\")\n",
    "    plt.plot(range(1,16), val_loss, label=\"Validation\")\n",
    "    plt.xlabel(\"Epoch\")\n",
    "    plt.ylabel(\"Loss\")\n",
    "    plt.legend(loc='best')\n",
    "    plt.show()"
   ]
  },
  {
   "cell_type": "markdown",
   "metadata": {},
   "source": [
    "# Hyperparameter Seach - Baseline Model"
   ]
  },
  {
   "cell_type": "code",
   "execution_count": 20,
   "metadata": {},
   "outputs": [],
   "source": [
    "ne3 = LargeNet()"
   ]
  },
  {
   "cell_type": "code",
   "execution_count": 18,
   "metadata": {},
   "outputs": [
    {
     "name": "stdout",
     "output_type": "stream",
     "text": [
      "Epoch 1: Train err: 0.8148333333333333, Train loss: 2.158148763027597  |Validation err: 0.723 , Validation loss:2.009124256670475 \n",
      "Epoch 2: Train err: 0.7078333333333333, Train loss: 1.9445663310111838  |Validation err: 0.7025 , Validation loss:1.9168030060827732 \n",
      "Epoch 3: Train err: 0.6698333333333333, Train loss: 1.856111766176021  |Validation err: 0.6735 , Validation loss:1.9394507482647896 \n",
      "Epoch 4: Train err: 0.628, Train loss: 1.7505208304587832  |Validation err: 0.641 , Validation loss:1.867951549589634 \n",
      "Epoch 5: Train err: 0.5693333333333334, Train loss: 1.6187293821192803  |Validation err: 0.658 , Validation loss:1.9066818878054619 \n",
      "Epoch 6: Train err: 0.5073333333333333, Train loss: 1.456289514582208  |Validation err: 0.642 , Validation loss:1.8620629645884037 \n",
      "Epoch 7: Train err: 0.41933333333333334, Train loss: 1.2551947939903179  |Validation err: 0.659 , Validation loss:2.0057723075151443 \n",
      "Epoch 8: Train err: 0.351, Train loss: 1.0611330454653882  |Validation err: 0.6685 , Validation loss:2.1008864864706993 \n",
      "Epoch 9: Train err: 0.2831666666666667, Train loss: 0.8560824400566994  |Validation err: 0.674 , Validation loss:2.3106570430099964 \n",
      "Epoch 10: Train err: 0.21933333333333332, Train loss: 0.670113834611913  |Validation err: 0.6725 , Validation loss:2.7050860971212387 \n",
      "Epoch 11: Train err: 0.15133333333333332, Train loss: 0.4867108572036662  |Validation err: 0.684 , Validation loss:3.072967253625393 \n",
      "Epoch 12: Train err: 0.1045, Train loss: 0.3489989275310902  |Validation err: 0.704 , Validation loss:3.4543755501508713 \n",
      "Epoch 13: Train err: 0.06333333333333334, Train loss: 0.24077464069457763  |Validation err: 0.695 , Validation loss:4.020204208791256 \n",
      "Epoch 14: Train err: 0.037333333333333336, Train loss: 0.1562779146306058  |Validation err: 0.694 , Validation loss:4.432932212948799 \n",
      "Epoch 15: Train err: 0.024, Train loss: 0.1047970599475059  |Validation err: 0.6975 , Validation loss:4.853061161935329 \n",
      "Finished Training\n",
      "Total time elapsed: 4125.04 seconds\n"
     ]
    }
   ],
   "source": [
    "train(ne3, batch_size = 64, learning_rate=0.001, num_epochs = 15)"
   ]
  },
  {
   "cell_type": "code",
   "execution_count": 20,
   "metadata": {},
   "outputs": [
    {
     "name": "stdout",
     "output_type": "stream",
     "text": [
      "Epoch 1: Train err: 0.905, Train loss: 69.27644053164948  |Validation err: 0.9 , Validation loss:2.305116042494774 \n",
      "Epoch 2: Train err: 0.8991666666666667, Train loss: 2.310235708317858  |Validation err: 0.9 , Validation loss:2.306180879473686 \n",
      "Epoch 3: Train err: 0.9078333333333334, Train loss: 2.3106132263832904  |Validation err: 0.9 , Validation loss:2.3110063523054123 \n",
      "Epoch 4: Train err: 0.9058333333333334, Train loss: 2.3119596395086734  |Validation err: 0.9 , Validation loss:2.3066415563225746 \n",
      "Epoch 5: Train err: 0.8973333333333333, Train loss: 2.312528721829678  |Validation err: 0.9 , Validation loss:2.3107978478074074 \n",
      "Epoch 6: Train err: 0.9033333333333333, Train loss: 2.3107845377414784  |Validation err: 0.9 , Validation loss:2.317298397421837 \n",
      "Epoch 7: Train err: 0.9025, Train loss: 2.3116819300550095  |Validation err: 0.9 , Validation loss:2.311502568423748 \n",
      "Epoch 8: Train err: 0.9026666666666666, Train loss: 2.313047170639038  |Validation err: 0.9 , Validation loss:2.3057210743427277 \n",
      "Epoch 9: Train err: 0.904, Train loss: 2.309322917715032  |Validation err: 0.9 , Validation loss:2.3094464614987373 \n",
      "Epoch 10: Train err: 0.9031666666666667, Train loss: 2.3102539295845843  |Validation err: 0.9 , Validation loss:2.3178758919239044 \n",
      "Epoch 11: Train err: 0.9001666666666667, Train loss: 2.310974729822037  |Validation err: 0.9 , Validation loss:2.309593439102173 \n",
      "Epoch 12: Train err: 0.9051666666666667, Train loss: 2.311133493768408  |Validation err: 0.9 , Validation loss:2.3068631663918495 \n",
      "Epoch 13: Train err: 0.9061666666666667, Train loss: 2.3110781071033886  |Validation err: 0.9 , Validation loss:2.3089632838964462 \n",
      "Epoch 14: Train err: 0.8958333333333334, Train loss: 2.3131964434968664  |Validation err: 0.9 , Validation loss:2.307108908891678 \n",
      "Epoch 15: Train err: 0.904, Train loss: 2.3099847017450537  |Validation err: 0.9 , Validation loss:2.312180735170841 \n",
      "Finished Training\n",
      "Total time elapsed: 3797.03 seconds\n"
     ]
    }
   ],
   "source": [
    "ne3 = LargeNet()\n",
    "train(ne3, batch_size = 64, learning_rate=0.1, num_epochs = 15)"
   ]
  },
  {
   "cell_type": "code",
   "execution_count": 17,
   "metadata": {},
   "outputs": [
    {
     "name": "stdout",
     "output_type": "stream",
     "text": [
      "Epoch 1: Train err: 0.9795918367346939, Train loss: 2.3734283447265625  |Validation err: 0.888 , Validation loss:2.3043167099120123 \n",
      "Epoch 2: Train err: 0.9081632653061225, Train loss: 2.290855824947357  |Validation err: 0.8775 , Validation loss:2.302852191622295 \n",
      "Epoch 3: Train err: 0.8061224489795918, Train loss: 2.2846043705940247  |Validation err: 0.901 , Validation loss:2.314066497106401 \n",
      "Epoch 4: Train err: 0.8367346938775511, Train loss: 2.13023641705513  |Validation err: 0.907 , Validation loss:2.341324866764129 \n",
      "Epoch 5: Train err: 0.7142857142857143, Train loss: 2.084831118583679  |Validation err: 0.8955 , Validation loss:2.4171635347699363 \n",
      "Epoch 6: Train err: 0.6938775510204082, Train loss: 1.9880781471729279  |Validation err: 0.883 , Validation loss:2.561256310296437 \n",
      "Epoch 7: Train err: 0.6836734693877551, Train loss: 1.9308159351348877  |Validation err: 0.9 , Validation loss:2.717611956217932 \n",
      "Epoch 8: Train err: 0.5918367346938775, Train loss: 1.7282463312149048  |Validation err: 0.89 , Validation loss:2.5405312568422347 \n",
      "Epoch 9: Train err: 0.41836734693877553, Train loss: 1.5219750106334686  |Validation err: 0.8765 , Validation loss:2.627961692355928 \n",
      "Epoch 10: Train err: 0.35714285714285715, Train loss: 1.273184359073639  |Validation err: 0.8715 , Validation loss:3.0133936064583913 \n",
      "Epoch 11: Train err: 0.2653061224489796, Train loss: 1.287275642156601  |Validation err: 0.8675 , Validation loss:3.3288279979948014 \n",
      "Epoch 12: Train err: 0.23469387755102042, Train loss: 0.7658655345439911  |Validation err: 0.866 , Validation loss:3.502179774027022 \n",
      "Epoch 13: Train err: 0.1836734693877551, Train loss: 0.6691552400588989  |Validation err: 0.8655 , Validation loss:3.90644105275472 \n",
      "Epoch 14: Train err: 0.20408163265306123, Train loss: 0.6687202155590057  |Validation err: 0.879 , Validation loss:5.183150215754433 \n",
      "Epoch 15: Train err: 0.14285714285714285, Train loss: 0.4501984044909477  |Validation err: 0.8645 , Validation loss:5.283411022216555 \n",
      "Finished Training\n",
      "Total time elapsed: 836.36 seconds\n"
     ]
    }
   ],
   "source": [
    "ne3 = LargeNet()\n",
    "train(ne3, batch_size = 32, learning_rate=0.001, num_epochs = 15)"
   ]
  },
  {
   "cell_type": "code",
   "execution_count": 18,
   "metadata": {},
   "outputs": [
    {
     "name": "stdout",
     "output_type": "stream",
     "text": [
      "Epoch 1: Train err: 0.9693877551020408, Train loss: 3.077807307243347  |Validation err: 0.8865 , Validation loss:2.302529043621487 \n",
      "Epoch 2: Train err: 0.8673469387755102, Train loss: 2.314727246761322  |Validation err: 0.885 , Validation loss:2.3035942410665844 \n",
      "Epoch 3: Train err: 0.9081632653061225, Train loss: 2.3299266695976257  |Validation err: 0.872 , Validation loss:2.303005570457095 \n",
      "Epoch 4: Train err: 0.8367346938775511, Train loss: 2.2420854568481445  |Validation err: 0.8975 , Validation loss:2.307703521516588 \n",
      "Epoch 5: Train err: 0.8163265306122449, Train loss: 2.2963311076164246  |Validation err: 0.9065 , Validation loss:2.3334713776906333 \n",
      "Epoch 6: Train err: 0.7244897959183674, Train loss: 2.034865379333496  |Validation err: 0.8985 , Validation loss:2.681612801930261 \n",
      "Epoch 7: Train err: 0.6326530612244898, Train loss: 1.9049053490161896  |Validation err: 0.8875 , Validation loss:2.4091070341685463 \n",
      "Epoch 8: Train err: 0.4387755102040816, Train loss: 1.718448281288147  |Validation err: 0.8875 , Validation loss:4.1575292746226 \n",
      "Epoch 9: Train err: 0.3673469387755102, Train loss: 1.3270516842603683  |Validation err: 0.8785 , Validation loss:2.9600095446147616 \n",
      "Epoch 10: Train err: 0.14285714285714285, Train loss: 0.6192267537117004  |Validation err: 0.8745 , Validation loss:3.4025273663657054 \n",
      "Epoch 11: Train err: 0.04081632653061224, Train loss: 0.4081924967467785  |Validation err: 0.8905 , Validation loss:5.167965783013238 \n",
      "Epoch 12: Train err: 0.0, Train loss: 0.06718670018017292  |Validation err: 0.8905 , Validation loss:7.451772182706803 \n",
      "Epoch 13: Train err: 0.0, Train loss: 0.013560919091105461  |Validation err: 0.8815 , Validation loss:9.02139563787551 \n",
      "Epoch 14: Train err: 0.0, Train loss: 0.004027426242828369  |Validation err: 0.88 , Validation loss:11.538469473520914 \n",
      "Epoch 15: Train err: 0.0, Train loss: 0.004958149045705795  |Validation err: 0.8855 , Validation loss:12.139621984390985 \n",
      "Finished Training\n",
      "Total time elapsed: 908.44 seconds\n"
     ]
    }
   ],
   "source": [
    "ne3 = LargeNet()\n",
    "train(ne3, batch_size = 32, learning_rate=0.01, num_epochs = 15)"
   ]
  },
  {
   "cell_type": "code",
   "execution_count": 26,
   "metadata": {},
   "outputs": [
    {
     "name": "stdout",
     "output_type": "stream",
     "text": [
      "Epoch 1: Train err: 0.9693877551020408, Train loss: 550.2931333184242  |Validation err: 0.905 , Validation loss:2.7689754281725203 \n",
      "Epoch 2: Train err: 0.9387755102040817, Train loss: 3.7385972142219543  |Validation err: 0.8995 , Validation loss:2.7221766918424577 \n",
      "Epoch 3: Train err: 0.9489795918367347, Train loss: 2.364147186279297  |Validation err: 0.9005 , Validation loss:2.3685239383152554 \n",
      "Epoch 4: Train err: 0.8979591836734694, Train loss: 2.294677972793579  |Validation err: 0.901 , Validation loss:2.4256414572397866 \n",
      "Epoch 5: Train err: 0.8979591836734694, Train loss: 2.3738736510276794  |Validation err: 0.9 , Validation loss:2.4190590078868563 \n",
      "Epoch 6: Train err: 0.8979591836734694, Train loss: 2.3401819467544556  |Validation err: 0.8995 , Validation loss:2.438799407747057 \n",
      "Epoch 7: Train err: 0.8979591836734694, Train loss: 2.3592366576194763  |Validation err: 0.8985 , Validation loss:2.38091674683586 \n",
      "Epoch 8: Train err: 0.8775510204081632, Train loss: 2.2866302728652954  |Validation err: 0.8965 , Validation loss:2.601626403748043 \n",
      "Epoch 9: Train err: 0.8061224489795918, Train loss: 2.2444815039634705  |Validation err: 0.8935 , Validation loss:2.5651551428295316 \n",
      "Epoch 10: Train err: 0.8571428571428571, Train loss: 2.1443129777908325  |Validation err: 0.8925 , Validation loss:3.048185113876585 \n",
      "Epoch 11: Train err: 0.8571428571428571, Train loss: 2.103884845972061  |Validation err: 0.889 , Validation loss:4.784944784073603 \n",
      "Epoch 12: Train err: 0.826530612244898, Train loss: 2.1493271589279175  |Validation err: 0.89 , Validation loss:4.122432595207577 \n",
      "Epoch 13: Train err: 0.7755102040816326, Train loss: 2.1442636251449585  |Validation err: 0.888 , Validation loss:3.6297548195672413 \n",
      "Epoch 14: Train err: 0.7857142857142857, Train loss: 1.9419246017932892  |Validation err: 0.9025 , Validation loss:9.967673778533936 \n",
      "Epoch 15: Train err: 0.826530612244898, Train loss: 4.167471766471863  |Validation err: 0.896 , Validation loss:2.463040344298832 \n",
      "Finished Training\n",
      "Total time elapsed: 674.44 seconds\n"
     ]
    }
   ],
   "source": [
    "ne3 = LargeNet()\n",
    "train(ne3, batch_size = 32, learning_rate=0.1, num_epochs = 15)"
   ]
  },
  {
   "cell_type": "code",
   "execution_count": null,
   "metadata": {},
   "outputs": [],
   "source": []
  },
  {
   "cell_type": "code",
   "execution_count": 22,
   "metadata": {},
   "outputs": [
    {
     "data": {
      "image/png": "[encoded data removed]",
      "text/plain": [
       "<Figure size 432x288 with 1 Axes>"
      ]
     },
     "metadata": {
      "needs_background": "light"
     },
     "output_type": "display_data"
    },
    {
     "data": {
      "image/png": "[encoded data removed]",
      "text/plain": [
       "<Figure size 432x288 with 1 Axes>"
      ]
     },
     "metadata": {
      "needs_background": "light"
     },
     "output_type": "display_data"
    }
   ],
   "source": [
    "path = 'model_large_bs64_lr0.001_epoch14'\n",
    "plot_training_curve(path)\n"
   ]
  },
  {
   "cell_type": "markdown",
   "metadata": {},
   "source": [
    "# Test Classification Error"
   ]
  },
  {
   "cell_type": "code",
   "execution_count": null,
   "metadata": {},
   "outputs": [],
   "source": [
    "net = LargeNet()\n",
    "model_path = get_model_name(net.name, batch_size=64, learning_rate=0.001, epoch=5)\n",
    "state = torch.load(model_path)\n",
    "net.load_state_dict(state)\n",
    "\n",
    "evaluate(net, test_loader, nn.CrossEntropyLoss())\n"
   ]
  },
  {
   "cell_type": "code",
   "execution_count": null,
   "metadata": {},
   "outputs": [],
   "source": [
    "The test classification error was about 0.37."
   ]
  },
  {
   "cell_type": "markdown",
   "metadata": {},
   "source": [
    "# Test Accuracy"
   ]
  },
  {
   "cell_type": "code",
   "execution_count": 292,
   "metadata": {},
   "outputs": [],
   "source": [
    "def get_accuracy(model):\n",
    "    data = testset\n",
    "    total = 0\n",
    "    for imgs, labels in torch.utils.data.DataLoader(data, batch_size=32):\n",
    "        output = model(imgs) # We don't need to run F.softmax\n",
    "        pred = output.max(1, keepdim=True)[1] # get the index of the max log-probability\n",
    "        correct += pred.eq(labels.view_as(pred)).sum().item()\n",
    "        total += imgs.shape[0]\n",
    "    return correct / total"
   ]
  },
  {
   "cell_type": "code",
   "execution_count": null,
   "metadata": {},
   "outputs": [],
   "source": [
    "net = LargeNet()\n",
    "model_path = get_model_name(net.name, batch_size=64, learning_rate=0.001, epoch=5)\n",
    "state = torch.load(model_path)\n",
    "net.load_state_dict(state)\n",
    "\n",
    "\n"
   ]
  },
  {
   "cell_type": "code",
   "execution_count": 233,
   "metadata": {},
   "outputs": [
    {
     "data": {
      "text/plain": [
       "0.6222222222222222"
      ]
     },
     "execution_count": 233,
     "metadata": {},
     "output_type": "execute_result"
    }
   ],
   "source": [
    "get_accuracy(net)"
   ]
  },
  {
   "cell_type": "raw",
   "metadata": {},
   "source": [
    "Test accuracy was about 62 %."
   ]
  },
  {
   "cell_type": "markdown",
   "metadata": {},
   "source": [
    "# 5. Transfer Learning [16 pt]\n",
    "For many image classification tasks, it is generally not a good idea to train a very large Deep Neural Network model from scratch due to the enormous compute requirements and lack of sufficient amounts of training data. One of the better option is to try using an existing model that performs a similar task to the one you need to solve. This method of utilizing a pre-trained network for other similar tasks is broadly termed â€œTransfer Learningâ€. In this assignment, we will use Transfer Learning to extract features from the hand gesture images. Then, train a smaller network to use these features as input and classify the hand gestures.\n",
    "\n",
    "As you have learned from the CNN lecture, Convolution layers extract various features from the images which get utilized by the fully connected layers for correct classification. AlexNet architecture played a pivotal role in establishing Deep Neural Nets as a go-to tool for Image classification problems and we will use an imagenet pre-trained AlexNet model to extract features in this assignment."
   ]
  },
  {
   "cell_type": "markdown",
   "metadata": {},
   "source": [
    "# AlexNet"
   ]
  },
  {
   "cell_type": "code",
   "execution_count": 1,
   "metadata": {},
   "outputs": [],
   "source": [
    "# Importing relevant Libraries\n",
    "import torch\n",
    "import torch.nn as nn\n",
    "import torch.optim as optim\n",
    "import numpy as np\n",
    "import time\n",
    "import os\n",
    "import torchvision\n",
    "import matplotlib.pyplot as plt\n",
    "\n",
    "from torchvision import datasets, models, transforms\n",
    "from torch.nn import functional as F\n",
    "import copy\n",
    "from torch.autograd import Variable\n",
    "\n",
    "\n",
    "###############################################################################\n",
    "# Feature Extraction using AlexNet pretrained model\n",
    "\n",
    "class AlexNetFeatures(nn.Module):\n",
    "    '''\n",
    "    Class that loads AlexNet Feature Model ('Convolution layers') with imagenet trained weights\n",
    "    \n",
    "    input : image tensors with dimension Lx3x224x224\n",
    "    \n",
    "    output : feature tensor with dimension Lx256x6x6\n",
    "    \n",
    "    *L - Batch size\n",
    "    \n",
    "    '''\n",
    "    \n",
    "    def load_weights(self):\n",
    "        an_builtin = torchvision.models.alexnet(pretrained=True) # Loads the pretrained model weights\n",
    "        \n",
    "        features_weight_i = [0, 3, 6, 8, 10]\n",
    "        for i in features_weight_i:\n",
    "            self.features[i].weight = an_builtin.features[i].weight\n",
    "            self.features[i].bias = an_builtin.features[i].bias\n",
    "\n",
    "    def __init__(self):\n",
    "        super(AlexNetFeatures, self).__init__()\n",
    "        self.features = nn.Sequential(\n",
    "            nn.Conv2d(3, 64, kernel_size=11, stride=4, padding=2),\n",
    "            nn.ReLU(inplace=True),\n",
    "            nn.MaxPool2d(kernel_size=3, stride=2),\n",
    "            nn.Conv2d(64, 192, kernel_size=5, padding=2),\n",
    "            nn.ReLU(inplace=True),\n",
    "            nn.MaxPool2d(kernel_size=3, stride=2),\n",
    "            nn.Conv2d(192, 384, kernel_size=3, padding=1),\n",
    "            nn.ReLU(inplace=True),\n",
    "            nn.Conv2d(384, 256, kernel_size=3, padding=1),\n",
    "            nn.ReLU(inplace=True),\n",
    "            nn.Conv2d(256, 256, kernel_size=3, padding=1),\n",
    "            nn.ReLU(inplace=True),\n",
    "            nn.MaxPool2d(kernel_size=3, stride=2),\n",
    "        )\n",
    "        \n",
    "        self.load_weights() # Copies the weights to AlexNetFeatures model layers\n",
    "\n",
    "    def forward(self, x):\n",
    "        x = self.features(x)\n",
    "        return x\n",
    "\n",
    "\n"
   ]
  },
  {
   "cell_type": "code",
   "execution_count": 2,
   "metadata": {},
   "outputs": [],
   "source": [
    "myfeature_model = AlexNetFeatures()"
   ]
  },
  {
   "cell_type": "code",
   "execution_count": 3,
   "metadata": {},
   "outputs": [
    {
     "ename": "NameError",
     "evalue": "name 'train_loader' is not defined",
     "output_type": "error",
     "traceback": [
      "\u001b[1;31m---------------------------------------------------------------------------\u001b[0m",
      "\u001b[1;31mNameError\u001b[0m                                 Traceback (most recent call last)",
      "\u001b[1;32m<ipython-input-3-ccc027377017>\u001b[0m in \u001b[0;36m<module>\u001b[1;34m\u001b[0m\n\u001b[1;32m----> 1\u001b[1;33m \u001b[1;32mfor\u001b[0m \u001b[0mi\u001b[0m\u001b[1;33m,\u001b[0m \u001b[0mdata\u001b[0m \u001b[1;32min\u001b[0m \u001b[0menumerate\u001b[0m\u001b[1;33m(\u001b[0m\u001b[0mtrain_loader\u001b[0m\u001b[1;33m,\u001b[0m \u001b[1;36m0\u001b[0m\u001b[1;33m)\u001b[0m\u001b[1;33m:\u001b[0m\u001b[1;33m\u001b[0m\u001b[1;33m\u001b[0m\u001b[0m\n\u001b[0m\u001b[0;32m      2\u001b[0m \u001b[1;33m\u001b[0m\u001b[0m\n\u001b[0;32m      3\u001b[0m     \u001b[0minputs\u001b[0m\u001b[1;33m,\u001b[0m \u001b[0mlabels\u001b[0m \u001b[1;33m=\u001b[0m \u001b[0mdata\u001b[0m\u001b[1;33m\u001b[0m\u001b[1;33m\u001b[0m\u001b[0m\n\u001b[0;32m      4\u001b[0m \u001b[1;33m\u001b[0m\u001b[0m\n\u001b[0;32m      5\u001b[0m     \u001b[0mfeatures\u001b[0m \u001b[1;33m=\u001b[0m \u001b[0mmyfeature_model\u001b[0m\u001b[1;33m(\u001b[0m\u001b[0minputs\u001b[0m\u001b[1;33m)\u001b[0m\u001b[1;33m\u001b[0m\u001b[1;33m\u001b[0m\u001b[0m\n",
      "\u001b[1;31mNameError\u001b[0m: name 'train_loader' is not defined"
     ]
    }
   ],
   "source": [
    "for i, data in enumerate(train_loader, 0):\n",
    "\n",
    "    inputs, labels = data\n",
    " \n",
    "    features = myfeature_model(inputs)\n",
    "for i, data in enumerate(val_loader, 0):\n",
    "\n",
    "    inputs, labels = data\n",
    " \n",
    "    features = myfeature_model(inputs)\n",
    "for i, data in enumerate(test_loader, 0):\n",
    "\n",
    "    inputs, labels = data\n",
    " \n",
    "    features = myfeature_model(inputs)\n",
    "   "
   ]
  },
  {
   "cell_type": "markdown",
   "metadata": {},
   "source": [
    "# Part (b) [5 pt]\n",
    "Build a convolutional neural network model that takes as input these AlexNet features, and makes a prediction. Your model should be a subclass of nn.Module.\n",
    "\n",
    "Explain your choice of neural network architecture: how many layers did you choose? What types of layers did you use: fully-connected or convolutional? What about other decisions like pooling layers, activation functions, number of channels / hidden units in each layer?"
   ]
  },
  {
   "cell_type": "markdown",
   "metadata": {},
   "source": [
    "# Network For AlexNet"
   ]
  },
  {
   "cell_type": "code",
   "execution_count": 317,
   "metadata": {},
   "outputs": [],
   "source": [
    "class Net(nn.Module):\n",
    "    def __init__(self):\n",
    "        super(Net, self).__init__()\n",
    "        self.name = \"transferNet\"\n",
    "        self.conv1 = nn.Conv2d(256, 1, 3) \n",
    "        self.fc1 = nn.Linear(64, 32)\n",
    "        self.fc2 = nn.Linear(32, 9)\n",
    "    def forward(self, x):\n",
    "        x = F.relu(self.conv1(x))\n",
    "        x = x.view(-1, 64)\n",
    "        x = F.relu(self.fc1(x))\n",
    "        x = F.relu(self.fc2(x))\n",
    "        x = x.squeeze(1) # Flatten to [batch_size]\n",
    "        return x"
   ]
  },
  {
   "cell_type": "markdown",
   "metadata": {},
   "source": [
    "# Training With AlexNet"
   ]
  },
  {
   "cell_type": "code",
   "execution_count": 342,
   "metadata": {},
   "outputs": [],
   "source": [
    "def evaluate2(net, loader, criterion):\n",
    "    \"\"\" Evaluate the network on the validation set.\n",
    "\n",
    "     Args:\n",
    "         net: PyTorch neural network object\n",
    "         loader: PyTorch data loader for the validation set\n",
    "         criterion: The loss function\n",
    "     Returns:\n",
    "         err: A scalar for the avg classification error over the validation set\n",
    "         loss: A scalar for the average loss function over the validation set\n",
    "     \"\"\"\n",
    "    total_loss = 0.0\n",
    "    total_err = 0.0\n",
    "    total_epoch = 0\n",
    "\n",
    "    for i, data in enumerate(loader, 0):\n",
    "        inputs, labels = data\n",
    "        \n",
    "        features = myfeature_model(inputs)\n",
    "        outputs = net(features)\n",
    "        loss = criterion(outputs, labels)\n",
    "        pred = outputs.max(1, keepdim=True)[1] # get the index of the max log-probability\n",
    "        total_err += pred.ne(labels.view_as(pred)).sum().item()\n",
    "        total_loss += loss.item()\n",
    "        total_epoch += len(labels)\n",
    "\n",
    "    err = float(total_err) / total_epoch\n",
    "    loss = float(total_loss) / (i + 1)\n",
    "\n",
    "    return err, loss\n"
   ]
  },
  {
   "cell_type": "code",
   "execution_count": 345,
   "metadata": {},
   "outputs": [],
   "source": [
    "def trainm(net, batch_size=64, learning_rate=0.0001, num_epochs=30):\n",
    "  \n",
    "    target_classes = [\"A\", \"B\", \"C\", \"D\",\n",
    "               \"E\", \"F\", \"G\", \"H\", \"I\"]\n",
    "    \n",
    "    torch.manual_seed(1000)\n",
    "\n",
    "    train_loader, val_loader, test_loader, classes = get_data_loader(\n",
    "            target_classes, batch_size)\n",
    "  \n",
    "    criterion = nn.CrossEntropyLoss()\n",
    "    optimizer = torch.optim.Adam(net.parameters(), lr=learning_rate, weight_decay=1e-5)\n",
    "    \n",
    "    train_err = np.zeros(num_epochs)\n",
    "    train_loss = np.zeros(num_epochs)\n",
    "    val_err = np.zeros(num_epochs)\n",
    "    val_loss = np.zeros(num_epochs)\n",
    "    \n",
    "    \n",
    "    iters, losses, train_acc, val_acc = [], [], [], []\n",
    "    start_time = time.time()\n",
    "    # training\n",
    "    n=0\n",
    "    for epoch in range(num_epochs):  # loop over the dataset multiple times \n",
    "        total_train_loss = 0.0\n",
    "        total_train_err = 0.0\n",
    "\n",
    "        total_epoch = 0\n",
    "        for i, data in enumerate(train_loader, 0):\n",
    "            \n",
    "            inputs, labels = data\n",
    "            optimizer.zero_grad()\n",
    "            features = myfeature_model(inputs)\n",
    "            outputs = net(features)\n",
    "            prob = F.softmax(outputs, dim=1)\n",
    "            loss = criterion(outputs, labels)\n",
    "            loss.backward()\n",
    "            optimizer.step()\n",
    "            iters.append(n)\n",
    "           \n",
    "            pred = outputs.max(1, keepdim=True)[1] # get the index of the max log-probability\n",
    "            total_train_err += pred.ne(labels.view_as(pred)).sum().item()\n",
    "            total_train_loss += loss.item()\n",
    "            total_epoch += len(labels)\n",
    "           \n",
    "            losses.append(float(loss)/batch_size)  \n",
    "            n += 1# compute *average* loss\n",
    "        \n",
    "        train_err[epoch] = float(total_train_err) / total_epoch\n",
    "        train_loss[epoch] = float(total_train_loss) / (i+1)\n",
    "        val_err[epoch], val_loss[epoch] = evaluate2(net, val_loader, criterion)\n",
    "        \n",
    "        print((\"Epoch {}: Train err: {}, Train loss: {} |\"+\n",
    "               \"Validation err: {}, Validation loss: {}\").format(\n",
    "                   epoch + 1,\n",
    "                   train_err[epoch],\n",
    "                   train_loss[epoch],\n",
    "                   val_err[epoch],\n",
    "                   val_loss[epoch]))\n",
    "\n",
    "        # Save the current model (checkpoint) to a file\n",
    "        model_path = get_model_name(net.name, batch_size, learning_rate, epoch)\n",
    "        torch.save(net.state_dict(), model_path)\n",
    "\n",
    "    print('Finished Training')\n",
    "    end_time = time.time()\n",
    "    elapsed_time = end_time - start_time\n",
    "    print(\"Total time elapsed: {:.2f} seconds\".format(elapsed_time))\n",
    "\n",
    "    # Write the train/test loss/err into CSV file for plotting later\n",
    "    epochs = np.arange(1, num_epochs + 1)\n",
    "\n",
    "    np.savetxt(\"{}_train_err.csv\".format(model_path), train_err)\n",
    "    np.savetxt(\"{}_train_loss.csv\".format(model_path), train_loss)\n",
    "    np.savetxt(\"{}_val_err.csv\".format(model_path), val_err)\n",
    "    np.savetxt(\"{}_val_loss.csv\".format(model_path), val_loss)\n",
    "        \n",
    "          "
   ]
  },
  {
   "cell_type": "markdown",
   "metadata": {},
   "source": [
    "# Hyperparameter Search With AlexNet"
   ]
  },
  {
   "cell_type": "code",
   "execution_count": 348,
   "metadata": {},
   "outputs": [
    {
     "name": "stdout",
     "output_type": "stream",
     "text": [
      "Epoch 1: Train err: 0.8595113438045375, Train loss: 2.191327426550068 |Validation err: 0.7489711934156379, Validation loss: 2.1361649968496565\n",
      "Epoch 2: Train err: 0.7556719022687609, Train loss: 2.1192364577223493 |Validation err: 0.7325102880658436, Validation loss: 2.061200148774763\n",
      "Epoch 3: Train err: 0.7260034904013961, Train loss: 2.0557315695972345 |Validation err: 0.6995884773662552, Validation loss: 2.004276502770161\n",
      "Epoch 4: Train err: 0.6858638743455497, Train loss: 1.9838839731915459 |Validation err: 0.6255144032921811, Validation loss: 1.9033872144212447\n",
      "Epoch 5: Train err: 0.6431064572425829, Train loss: 1.9034680759511484 |Validation err: 0.5679012345679012, Validation loss: 1.8201030124852686\n",
      "Epoch 6: Train err: 0.6212914485165794, Train loss: 1.833899358388225 |Validation err: 0.5390946502057613, Validation loss: 1.734129064858205\n",
      "Epoch 7: Train err: 0.5916230366492147, Train loss: 1.745175765967078 |Validation err: 0.5390946502057613, Validation loss: 1.5938884333818537\n",
      "Epoch 8: Train err: 0.5706806282722513, Train loss: 1.6464415397527539 |Validation err: 0.5267489711934157, Validation loss: 1.5038281139522913\n",
      "Epoch 9: Train err: 0.5488656195462478, Train loss: 1.5831324979272812 |Validation err: 0.49794238683127573, Validation loss: 1.4408074259267423\n",
      "Epoch 10: Train err: 0.5427574171029669, Train loss: 1.5330508511519974 |Validation err: 0.48559670781893005, Validation loss: 1.38964483620208\n",
      "Epoch 11: Train err: 0.5200698080279232, Train loss: 1.4925794872938025 |Validation err: 0.48559670781893005, Validation loss: 1.3416618084220728\n",
      "Epoch 12: Train err: 0.5113438045375218, Train loss: 1.4582794526068537 |Validation err: 0.4567901234567901, Validation loss: 1.30807442282453\n",
      "Epoch 13: Train err: 0.5087260034904014, Train loss: 1.4280258369279366 |Validation err: 0.4691358024691358, Validation loss: 1.2797835506038902\n",
      "Epoch 14: Train err: 0.5095986038394416, Train loss: 1.4010658396268183 |Validation err: 0.448559670781893, Validation loss: 1.259381850560506\n",
      "Epoch 15: Train err: 0.5017452006980803, Train loss: 1.3804437968535366 |Validation err: 0.43621399176954734, Validation loss: 1.2288421416969457\n",
      "Epoch 16: Train err: 0.49476439790575916, Train loss: 1.3600575751243045 |Validation err: 0.43621399176954734, Validation loss: 1.2105331018628407\n",
      "Epoch 17: Train err: 0.49214659685863876, Train loss: 1.3422844559734404 |Validation err: 0.43209876543209874, Validation loss: 1.1956644730312833\n",
      "Epoch 18: Train err: 0.4816753926701571, Train loss: 1.3256158453215687 |Validation err: 0.42386831275720166, Validation loss: 1.1824027589319175\n",
      "Epoch 19: Train err: 0.4816753926701571, Train loss: 1.3120069085615467 |Validation err: 0.4279835390946502, Validation loss: 1.1674068381266338\n",
      "Epoch 20: Train err: 0.47731239092495636, Train loss: 1.2978402485398097 |Validation err: 0.42386831275720166, Validation loss: 1.161567503532755\n",
      "Finished Training\n",
      "Total time elapsed: 3158.86 seconds\n"
     ]
    }
   ],
   "source": [
    "net = Net()\n",
    "trainm(net, batch_size=1, learning_rate=0.0001, num_epochs=20)"
   ]
  },
  {
   "cell_type": "markdown",
   "metadata": {},
   "source": [
    "# Part (d) [2 pt]\n",
    "Report the test accuracy of your best model. How does the test accuracy compare to part 4(d)?"
   ]
  },
  {
   "cell_type": "code",
   "execution_count": 352,
   "metadata": {},
   "outputs": [],
   "source": [
    "def get_accuracy(model):\n",
    "    data = testset\n",
    "    total = 0\n",
    "    correct =0\n",
    "    for imgs, labels in torch.utils.data.DataLoader(data, batch_size=32):\n",
    "        features = myfeature_model(imgs)\n",
    "        output = net(features) # We don't need to run F.softmax\n",
    "        pred = output.max(1, keepdim=True)[1] # get the index of the max log-probability\n",
    "        correct += pred.eq(labels.view_as(pred)).sum().item()\n",
    "        total += imgs.shape[0]\n",
    "    return correct / total"
   ]
  },
  {
   "cell_type": "code",
   "execution_count": 355,
   "metadata": {},
   "outputs": [
    {
     "data": {
      "text/plain": [
       "0.6666666666666666"
      ]
     },
     "execution_count": 355,
     "metadata": {},
     "output_type": "execute_result"
    }
   ],
   "source": [
    "get_accuracy(net)"
   ]
  },
  {
   "cell_type": "raw",
   "metadata": {},
   "source": [
    "The test accuracy increased from 62% to 67%. The network test accuracy improved noticebly."
   ]
  }
 ],
 "metadata": {
  "kernelspec": {
   "display_name": "Python 3",
   "language": "python",
   "name": "python3"
  },
  "language_info": {
   "codemirror_mode": {
    "name": "ipython",
    "version": 3
   },
   "file_extension": ".py",
   "mimetype": "text/x-python",
   "name": "python",
   "nbconvert_exporter": "python",
   "pygments_lexer": "ipython3",
   "version": "3.6.7"
  }
 },
 "nbformat": 4,
 "nbformat_minor": 2
}
